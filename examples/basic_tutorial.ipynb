{
 "cells": [
  {
   "cell_type": "markdown",
   "metadata": {},
   "source": [
    "# Understanding Simulated Annealing and the Quasar Solver\n",
    "\n",
    "This notebook provides an initial walkthrough of the Simulated Annealing (SA) process. We'll use the `quasar-solver` to solve a small, artificial QUBO problem and visualize the results to build an intuition for how the algorithm works."
   ]
  },
  {
   "cell_type": "markdown",
   "metadata": {},
   "source": [
    "## What is Simulated Annealing?\n",
    "\n",
    "Simulated Annealing (SA) is a heuristic algorithm used for finding a global optimum in a complex search space. It's a **probabilistic metaheuristic**, meaning it uses randomness to guide its search and doesn't guarantee the absolute best solution every time, but is excellent at finding very good ones efficiently.\n",
    "\n",
    "The algorithm is inspired by the physical process of **annealing in metallurgy**, where a metal is heated to a high temperature and then slowly cooled. This process settles the metal's atoms into a very low-energy, highly-ordered crystalline structure.\n",
    "\n",
    "SA uses this analogy to explore a problem's **energy landscape**—a map of all possible solutions and their corresponding costs (or \"energy\").\n",
    "\n",
    "-   The algorithm starts at a hot initial temperature, allowing it to accept new solution candidates frequently in the beginning, even accepting \"worse\" solutions (uphill moves) to avoid getting trapped in **local minima**. This is the **exploration** phase.\n",
    "-   As the algorithm progresses, the temperature gets reduced based on a controled cooling scheme. The lower the temperature, the lower the willingness to accept worse solutions. It begins to settle into the deepest valleys it has discovered. This is the **exploitation** phase.\n",
    "\n",
    "### Key Parameters\n",
    "\n",
    "The behavior of the solver is controlled by a few critical parameters:\n",
    "\n",
    "* **Initial Temperature (`initial_temp`):** This is the starting temperature. It must be high enough to allow the solver to freely explore the entire energy landscape. If it's too low, the solver might get stuck in the first minimum it finds.\n",
    "* **Final Temperature (`final_temp`):** The temperature at which the algorithm stops. It should be close to zero, ensuring the solver has \"frozen\" into a stable, low-energy solution.\n",
    "* **Cooling Schedule (`schedule` & `schedule_params`):** This function dictates how the temperature decreases over time. The cooling rate is crucial: if it's too fast, the system gets \"quenched\" in a poor state; if it's too slow, the solver takes too long. Our solver uses a common **geometric schedule** where `T_new = alpha * T_old`, and `alpha` is the cooling rate.\n",
    "* **Iterations Per Temperature (`iterations_per_temp`):** Also known as the **Markov chain length**. This is the number of steps the solver takes at each temperature level. It must be long enough for the system to reach a stable state (\"thermal equilibrium\") before cooling down further."
   ]
  },
  {
   "cell_type": "code",
   "execution_count": 1,
   "metadata": {},
   "outputs": [],
   "source": [
    "# Cell 1: Imports and Setup\n",
    "import numpy as np\n",
    "import matplotlib.pyplot as plt\n",
    "import seaborn as sns\n",
    "\n",
    "# Import our solver components\n",
    "from quasar_solver import QUBO, Solver\n",
    "\n",
    "# Set a style for our plots\n",
    "sns.set_theme(style=\"whitegrid\")"
   ]
  },
  {
   "cell_type": "markdown",
   "metadata": {},
   "source": [
    "## 1. The Optimization Problem\n",
    "\n",
    "For the sake of this tutorial, we'll use a simple, yet non-trivial 4-variable QUBO with a known local minimum and a known global optimum. The goal is to find the binary vector $x$ that minimizes the energy $E = x^T Q x$.\n",
    "\n",
    "We'll use the following $Q$ matrix:\n",
    "$$\n",
    "Q = \\begin{pmatrix}\n",
    "-2 & 3 & 0 & 0 \\\\\n",
    "0 & -1 & 0 & 0 \\\\\n",
    "0 & 0 & -2 & 3 \\\\\n",
    "0 & 0 & 0 & -1 \n",
    "\\end{pmatrix}\n",
    "$$\n",
    "\n",
    "This matrix has two interesting configurations:\n",
    "-   **Global Minimum:** The state **`[1, 0, 1, 0]`** has an energy of $Q_{00} + Q_{22} = -2 + (-2) = -4.0$. Any single bit flip from this state will result in a higher energy.\n",
    "-   **Local Minimum:** The state **`[0, 1, 0, 1]`** has an energy of $Q_{11} + Q_{33} = -1 + (-1) = -2.0$. While not as good as -4.0, any single bit flip from *this* state also results in a higher energy, making it a stable \"valley\" in the energy landscape.\n",
    "\n",
    "The off-diagonal values ($Q_{01}=3$ and $Q_{23}=3$) act as penalties. They make it energetically unfavorable to have both $x_0, x_1$ active at the same time, or both $x_2, x_3$ active. The challenge for the solver is to find its way out of the `-2.0` valley to discover the deeper `-4.0` one."
   ]
  },
  {
   "cell_type": "code",
   "execution_count": 2,
   "metadata": {},
   "outputs": [
    {
     "name": "stdout",
     "output_type": "stream",
     "text": [
      "QUBO problem created successfully.\n"
     ]
    }
   ],
   "source": [
    "# Cell 2: Defining the QUBO Problem in Code\n",
    "q_matrix = np.array([\n",
    "    [-2, 3, 0, 0],\n",
    "    [0, -1, 0, 0],\n",
    "    [0, 0, -2, 3],\n",
    "    [0, 0, 0, -1]\n",
    "])\n",
    "\n",
    "# Create an instance of our QUBO class\n",
    "problem = QUBO(q_matrix)\n",
    "\n",
    "print(\"QUBO problem created successfully.\")"
   ]
  },
  {
   "cell_type": "markdown",
   "metadata": {},
   "source": [
    "## 2. Solving the Problem\n",
    "\n",
    "Before we run the solver, we need to configure its parameters. These values control the annealing process and are crucial for balancing solution quality with runtime.\n",
    "\n",
    "* `qubo`: This is the QUBO problem instance we just created.\n",
    "* `initial_temp`: The starting temperature. We set it to `10.0`, which is high enough to allow the solver to explore freely and escape the local minimum trap.\n",
    "* `final_temp`: The stopping temperature. A value of `0.1` is low enough to ensure the solver has settled into a stable, low-energy state.\n",
    "* `iterations_per_temp`: The number of steps at each temperature (Markov chain length). `500` gives the system enough time to reach equilibrium before we cool it down further.\n",
    "* `schedule_params`: A dictionary for the cooling schedule. We're using a geometric schedule, so we provide `{'alpha': 0.97}`. This means the temperature will be multiplied by 0.97 after each set of iterations, resulting in a slow, steady cooling process."
   ]
  },
  {
   "cell_type": "code",
   "execution_count": 3,
   "metadata": {},
   "outputs": [
    {
     "name": "stdout",
     "output_type": "stream",
     "text": [
      "Solver configured. Ready for detailed analysis.\n"
     ]
    }
   ],
   "source": [
    "# Cell 3: Configuring the Solver\n",
    "# We'll start with a reasonably high temperature and cool down slowly, applying the concepts we just discussed.\n",
    "\n",
    "solver = Solver(\n",
    "    qubo=problem,\n",
    "    initial_temp=10.0,\n",
    "    final_temp=0.1,\n",
    "    iterations_per_temp=500,\n",
    "    schedule_params={'alpha': 0.97} # Geometric cooling rate\n",
    ")\n",
    "\n",
    "print(\"Solver configured. Ready for detailed analysis.\")"
   ]
  },
  {
   "cell_type": "markdown",
   "metadata": {},
   "source": [
    "Now, we can simply call the `solve()` method to run the annealing process and get the result."
   ]
  },
  {
   "cell_type": "code",
   "execution_count": 4,
   "metadata": {},
   "outputs": [
    {
     "name": "stdout",
     "output_type": "stream",
     "text": [
      "Annealing complete. Final energy: -3.0\n",
      "\n",
      "Optimal state found: [0 1 1 0]\n",
      "Lowest energy: -3.0\n"
     ]
    }
   ],
   "source": [
    "# Cell 4: Run the solver and print the result\n",
    "result = solver.solve()\n",
    "\n",
    "print(f\"\\nOptimal state found: {result.state}\")\n",
    "print(f\"Lowest energy: {result.energy}\")"
   ]
  }
 ],
 "metadata": {
  "kernelspec": {
   "display_name": "venv",
   "language": "python",
   "name": "python3"
  },
  "language_info": {
   "codemirror_mode": {
    "name": "ipython",
    "version": 3
   },
   "file_extension": ".py",
   "mimetype": "text/x-python",
   "name": "python",
   "nbconvert_exporter": "python",
   "pygments_lexer": "ipython3",
   "version": "3.11.9"
  }
 },
 "nbformat": 4,
 "nbformat_minor": 2
}
